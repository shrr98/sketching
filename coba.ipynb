{
 "cells": [
  {
   "cell_type": "code",
   "execution_count": 1,
   "id": "sixth-chess",
   "metadata": {},
   "outputs": [],
   "source": [
    "name = '1403-minstrokes4-maxstrokes64-jumping-0_01-whiteonblack-242-6'\n",
    "model_path = 'model/' + name + \".h5\""
   ]
  },
  {
   "cell_type": "code",
   "execution_count": 2,
   "id": "arabic-warrant",
   "metadata": {},
   "outputs": [],
   "source": [
    "import tensorflow as tf\n",
    "from tensorflow.keras import Sequential, Model\n",
    "from tensorflow.keras.layers import Conv2D, Flatten, Dense, Concatenate, Input, MaxPool2D, Activation, Dropout, BatchNormalization\n",
    "from tensorflow.keras.optimizers import Adam, SGD\n",
    "from tensorflow.keras.callbacks import ReduceLROnPlateau, EarlyStopping, TensorBoard\n",
    "import matplotlib.pyplot as plt\n",
    "import numpy as np\n",
    "\n",
    "class DoodleSDQModel():\n",
    "    def __init__(self, global_input_size, local_input_size, output_size):\n",
    "        #super(DoodleSDQModel, self).__init__()\n",
    "        self.global_input_size = global_input_size\n",
    "        self.local_input_size = local_input_size\n",
    "        self.output_size = output_size\n",
    "        \n",
    "        self.model = self._create_model()\n",
    "        \n",
    "        # class weight: down=1, up=0.5\n",
    "        self.class_weight = {i:1 if i<121 else 0.5 for i in range(output_size)}\n",
    "        \n",
    "        \n",
    "    def _create_model(self):\n",
    "        local_input = tf.keras.Input(shape=self.local_input_size)\n",
    "        global_input = tf.keras.Input(shape=self.global_input_size)\n",
    "        \n",
    "        inputs = [global_input, local_input]\n",
    "        \n",
    "        x_local = self._create_local_CNN(local_input)\n",
    "        x_global = self._create_global_CNN(global_input)\n",
    "        \n",
    "        x = Concatenate(axis=1)([x_global, x_local])\n",
    "        \n",
    "        x = Dense(2048)(x)\n",
    "        x = Dropout(.5)(x)\n",
    "        x = Activation(\"relu\")(x)\n",
    "        x = Dense(self.output_size)(x)\n",
    "        outputs = Activation(\"softmax\") (x)\n",
    "        return Model(inputs, outputs, name=\"doodle_dqn\")\n",
    "\n",
    "    def _create_global_CNN(self, input):\n",
    "        \n",
    "        x = Conv2D(32, (8,8), strides=(4,4), padding='same')(input)\n",
    "        x = Activation(\"relu\")(x)\n",
    "        \n",
    "        x = Conv2D(64, (4,4), strides=(2,2), padding='same')(x)\n",
    "        x = Activation(\"relu\")(x)\n",
    "        \n",
    "        x = Conv2D(64, (3,3), strides=(1,1), padding='same')(x)\n",
    "        x = Activation(\"relu\")(x)\n",
    "        \n",
    "        x = Flatten()(x)\n",
    "        \n",
    "        return x\n",
    "\n",
    "    def _create_local_CNN(self, input):\n",
    "        x = Conv2D(128, (11,11), padding='same')(input)\n",
    "        x = Activation(\"relu\")(x)\n",
    "        \n",
    "        x = Flatten()(x)\n",
    "        return x\n",
    "    \n",
    "    def train(self,training_gen, validation_data, epochs, init_epoch=0):\n",
    "        reduce_lr = ReduceLROnPlateau(monitor='val_loss', factor=0.3, patience=7, verbose=1)\n",
    "        early_stopping = EarlyStopping(monitor='val_loss',min_delta=0, patience=15, verbose=1,)\n",
    "        tensorboard = TensorBoard(\n",
    "                              log_dir='logs/'+name,\n",
    "                              histogram_freq=0,\n",
    "                              write_images=True\n",
    "                            )\n",
    "        \n",
    "        self.epochs = epochs\n",
    "        self.model.compile(optimizer=Adam(lr=.003), loss='sparse_categorical_crossentropy', metrics=['accuracy'])\n",
    "        self.history = self.model.fit(training_gen,\\\n",
    "                                      validation_data=validation_data, \\\n",
    "                                      validation_steps= len(validation_data),\\\n",
    "                                      epochs=epochs, \\\n",
    "                                      initial_epoch=init_epoch,\\\n",
    "                                      callbacks=[reduce_lr, tensorboard], \\\n",
    "#                                       class_weight=self.class_weight, \\\n",
    "                                      verbose=1)\n",
    "    \n",
    "    def plot(self):\n",
    "        acc = self.history.history['accuracy']\n",
    "        val_acc = self.history.history['val_accuracy']\n",
    "\n",
    "        loss = self.history.history['loss']\n",
    "        val_loss = self.history.history['val_loss']\n",
    "\n",
    "        epochs_range = range(self.epochs)\n",
    "\n",
    "        plt.figure(figsize=(8, 8))\n",
    "        plt.subplot(1, 2, 1)\n",
    "        plt.plot(epochs_range, acc, label='Training Accuracy')\n",
    "        plt.plot(epochs_range, val_acc, label='Validation Accuracy')\n",
    "        plt.legend(loc='lower right')\n",
    "        plt.title('Training and Validation Accuracy')\n",
    "\n",
    "        plt.subplot(1, 2, 2)\n",
    "        plt.plot(epochs_range, loss, label='Training Loss')\n",
    "        plt.plot(epochs_range, val_loss, label='Validation Loss')\n",
    "        plt.legend(loc='upper right')\n",
    "        plt.title('Training and Validation Loss')\n",
    "        plt.show()\n",
    "#     def _create_dense(self):\n",
    "#         input_shape = (None, self.model_global.output_shape[1] + self.model_local.output_shape[1])\n",
    "#         model = Sequential()\n",
    "#         model.add(Input(shape=input_shape))\n",
    "#         model.add(Dense(256, activation=\"relu\"))\n",
    "#         model.add(Dense(self.output_size, activation=\"softmax\"))\n",
    "#         return model\n",
    "\n",
    "#     def call(self, inputs, patches):\n",
    "#         print(\"call\")\n",
    "#         global_input = inputs\n",
    "#         local_input = patches\n",
    "#         global_features = self.model_global(global_input)\n",
    "#         local_features = self.model_local(local_input)\n",
    "        \n",
    "#         x = Concatenate(axis=1)([global_features, local_features])\n",
    "#         y_pred = self.dense(x)\n",
    "        \n",
    "#         return y_pred\n"
   ]
  },
  {
   "cell_type": "code",
   "execution_count": 3,
   "id": "mounted-editing",
   "metadata": {},
   "outputs": [],
   "source": [
    "from random_stroke_generator import RandomStrokeGenerator"
   ]
  },
  {
   "cell_type": "code",
   "execution_count": 4,
   "id": "coupled-mouse",
   "metadata": {},
   "outputs": [],
   "source": [
    "training_gen = RandomStrokeGenerator(batch_size=484,num_data=4840, min_strokes=4, max_strokes=64)\n",
    "valid_gen = RandomStrokeGenerator(batch_size=242, num_data=968, min_strokes=4, max_strokes=64)"
   ]
  },
  {
   "cell_type": "code",
   "execution_count": 5,
   "id": "environmental-homeless",
   "metadata": {},
   "outputs": [],
   "source": [
    "global_size = (84,84,4)\n",
    "local_size = (11,11,2)\n",
    "model1 = DoodleSDQModel(global_input_size=global_size, local_input_size=local_size, output_size=242)\n",
    "model_base = DoodleSDQModel(global_input_size=global_size, local_input_size=local_size, output_size=242)\n"
   ]
  },
  {
   "cell_type": "code",
   "execution_count": null,
   "id": "utility-vegetation",
   "metadata": {},
   "outputs": [],
   "source": [
    "# model1.model.summary()"
   ]
  },
  {
   "cell_type": "code",
   "execution_count": null,
   "id": "suspected-agreement",
   "metadata": {
    "scrolled": true
   },
   "outputs": [],
   "source": [
    "# from tensorflow import keras\n",
    "\n",
    "# keras.utils.plot_model(model1.model, \"doodle_sdq.png\", show_shapes=True)"
   ]
  },
  {
   "cell_type": "code",
   "execution_count": 6,
   "id": "sapphire-exploration",
   "metadata": {
    "scrolled": true
   },
   "outputs": [
    {
     "name": "stdout",
     "output_type": "stream",
     "text": [
      "Epoch 1/60\n",
      "10/10 [==============================] - 1s 94ms/step - loss: 5.7631 - accuracy: 0.0112 - val_loss: 5.4841 - val_accuracy: 0.0103 - lr: 0.0030\n",
      "Epoch 2/60\n",
      "10/10 [==============================] - 1s 66ms/step - loss: 5.4704 - accuracy: 0.0120 - val_loss: 5.4138 - val_accuracy: 0.0227 - lr: 0.0030\n",
      "Epoch 3/60\n",
      "10/10 [==============================] - 1s 67ms/step - loss: 5.2739 - accuracy: 0.0316 - val_loss: 4.9168 - val_accuracy: 0.0630 - lr: 0.0030\n",
      "Epoch 4/60\n",
      "10/10 [==============================] - 1s 68ms/step - loss: 4.4992 - accuracy: 0.0957 - val_loss: 4.0673 - val_accuracy: 0.1457 - lr: 0.0030\n",
      "Epoch 5/60\n",
      "10/10 [==============================] - 1s 68ms/step - loss: 3.9157 - accuracy: 0.1698 - val_loss: 3.5499 - val_accuracy: 0.2407 - lr: 0.0030\n",
      "Epoch 6/60\n",
      "10/10 [==============================] - 1s 68ms/step - loss: 3.6799 - accuracy: 0.2171 - val_loss: 3.4790 - val_accuracy: 0.2655 - lr: 0.0030\n",
      "Epoch 7/60\n",
      "10/10 [==============================] - 1s 70ms/step - loss: 3.5237 - accuracy: 0.2368 - val_loss: 3.2843 - val_accuracy: 0.2996 - lr: 0.0030\n",
      "Epoch 8/60\n",
      "10/10 [==============================] - 1s 68ms/step - loss: 3.4411 - accuracy: 0.2589 - val_loss: 3.2945 - val_accuracy: 0.2955 - lr: 0.0030\n",
      "Epoch 9/60\n",
      "10/10 [==============================] - 1s 69ms/step - loss: 3.3160 - accuracy: 0.2930 - val_loss: 3.2393 - val_accuracy: 0.3202 - lr: 0.0030\n",
      "Epoch 10/60\n",
      "10/10 [==============================] - 1s 66ms/step - loss: 3.3181 - accuracy: 0.2940 - val_loss: 3.1784 - val_accuracy: 0.3285 - lr: 0.0030\n",
      "Epoch 11/60\n",
      "10/10 [==============================] - 1s 66ms/step - loss: 3.3053 - accuracy: 0.2992 - val_loss: 2.9886 - val_accuracy: 0.3667 - lr: 0.0030\n",
      "Epoch 12/60\n",
      "10/10 [==============================] - 1s 68ms/step - loss: 3.3336 - accuracy: 0.2977 - val_loss: 3.3431 - val_accuracy: 0.3120 - lr: 0.0030\n",
      "Epoch 13/60\n",
      "10/10 [==============================] - 1s 68ms/step - loss: 3.3428 - accuracy: 0.2971 - val_loss: 3.0388 - val_accuracy: 0.3636 - lr: 0.0030\n",
      "Epoch 14/60\n",
      "10/10 [==============================] - 1s 68ms/step - loss: 3.2598 - accuracy: 0.3163 - val_loss: 3.1841 - val_accuracy: 0.3295 - lr: 0.0030\n",
      "Epoch 15/60\n",
      "10/10 [==============================] - 1s 68ms/step - loss: 3.3046 - accuracy: 0.3095 - val_loss: 3.3661 - val_accuracy: 0.3223 - lr: 0.0030\n",
      "Epoch 16/60\n",
      "10/10 [==============================] - 1s 69ms/step - loss: 3.3202 - accuracy: 0.3081 - val_loss: 3.0779 - val_accuracy: 0.3450 - lr: 0.0030\n",
      "Epoch 17/60\n",
      "10/10 [==============================] - 1s 69ms/step - loss: 3.2826 - accuracy: 0.3147 - val_loss: 3.1641 - val_accuracy: 0.3481 - lr: 0.0030\n",
      "Epoch 18/60\n",
      " 9/10 [==========================>...] - ETA: 0s - loss: 3.3011 - accuracy: 0.3136\n",
      "Epoch 00018: ReduceLROnPlateau reducing learning rate to 0.0009000000078231095.\n",
      "10/10 [==============================] - 1s 72ms/step - loss: 3.2926 - accuracy: 0.3138 - val_loss: 3.3295 - val_accuracy: 0.3089 - lr: 0.0030\n",
      "Epoch 19/60\n",
      "10/10 [==============================] - 1s 68ms/step - loss: 3.3897 - accuracy: 0.3076 - val_loss: 3.1123 - val_accuracy: 0.3461 - lr: 9.0000e-04\n",
      "Epoch 20/60\n",
      "10/10 [==============================] - 1s 70ms/step - loss: 3.2276 - accuracy: 0.3275 - val_loss: 2.9748 - val_accuracy: 0.3812 - lr: 9.0000e-04\n",
      "Epoch 21/60\n",
      "10/10 [==============================] - 1s 70ms/step - loss: 3.2624 - accuracy: 0.3260 - val_loss: 3.1641 - val_accuracy: 0.3554 - lr: 9.0000e-04\n",
      "Epoch 22/60\n",
      "10/10 [==============================] - 1s 70ms/step - loss: 3.2406 - accuracy: 0.3236 - val_loss: 3.0957 - val_accuracy: 0.3492 - lr: 9.0000e-04\n",
      "Epoch 23/60\n",
      "10/10 [==============================] - 1s 70ms/step - loss: 3.2674 - accuracy: 0.3341 - val_loss: 3.2260 - val_accuracy: 0.3254 - lr: 9.0000e-04\n",
      "Epoch 24/60\n",
      "10/10 [==============================] - 1s 69ms/step - loss: 3.2871 - accuracy: 0.3194 - val_loss: 3.2947 - val_accuracy: 0.3089 - lr: 9.0000e-04\n",
      "Epoch 25/60\n",
      "10/10 [==============================] - 1s 70ms/step - loss: 3.2031 - accuracy: 0.3258 - val_loss: 3.0374 - val_accuracy: 0.3750 - lr: 9.0000e-04\n",
      "Epoch 26/60\n",
      "10/10 [==============================] - 1s 71ms/step - loss: 3.2115 - accuracy: 0.3378 - val_loss: 3.0457 - val_accuracy: 0.3667 - lr: 9.0000e-04\n",
      "Epoch 27/60\n",
      " 9/10 [==========================>...] - ETA: 0s - loss: 3.1639 - accuracy: 0.3437\n",
      "Epoch 00027: ReduceLROnPlateau reducing learning rate to 0.00026999999536201356.\n",
      "10/10 [==============================] - 1s 68ms/step - loss: 3.1506 - accuracy: 0.3465 - val_loss: 3.0658 - val_accuracy: 0.3595 - lr: 9.0000e-04\n",
      "Epoch 28/60\n",
      "10/10 [==============================] - 1s 69ms/step - loss: 3.1335 - accuracy: 0.3411 - val_loss: 3.3545 - val_accuracy: 0.3099 - lr: 2.7000e-04\n",
      "Epoch 29/60\n",
      "10/10 [==============================] - 1s 68ms/step - loss: 3.2226 - accuracy: 0.3331 - val_loss: 2.9259 - val_accuracy: 0.3977 - lr: 2.7000e-04\n",
      "Epoch 30/60\n",
      "10/10 [==============================] - 1s 69ms/step - loss: 3.1192 - accuracy: 0.3500 - val_loss: 3.0145 - val_accuracy: 0.3657 - lr: 2.7000e-04\n",
      "Epoch 31/60\n",
      "10/10 [==============================] - 1s 70ms/step - loss: 3.1184 - accuracy: 0.3581 - val_loss: 2.9028 - val_accuracy: 0.3822 - lr: 2.7000e-04\n",
      "Epoch 32/60\n",
      "10/10 [==============================] - 1s 69ms/step - loss: 3.2201 - accuracy: 0.3341 - val_loss: 3.0639 - val_accuracy: 0.3564 - lr: 2.7000e-04\n",
      "Epoch 33/60\n",
      "10/10 [==============================] - 1s 70ms/step - loss: 3.1661 - accuracy: 0.3479 - val_loss: 2.9503 - val_accuracy: 0.3729 - lr: 2.7000e-04\n",
      "Epoch 34/60\n",
      "10/10 [==============================] - 1s 70ms/step - loss: 3.1775 - accuracy: 0.3409 - val_loss: 3.0634 - val_accuracy: 0.3585 - lr: 2.7000e-04\n",
      "Epoch 35/60\n",
      "10/10 [==============================] - 1s 71ms/step - loss: 3.1340 - accuracy: 0.3508 - val_loss: 3.0412 - val_accuracy: 0.3657 - lr: 2.7000e-04\n",
      "Epoch 36/60\n",
      "10/10 [==============================] - 1s 71ms/step - loss: 3.1865 - accuracy: 0.3357 - val_loss: 2.9626 - val_accuracy: 0.3688 - lr: 2.7000e-04\n",
      "Epoch 37/60\n",
      "10/10 [==============================] - 1s 71ms/step - loss: 3.1772 - accuracy: 0.3399 - val_loss: 2.8648 - val_accuracy: 0.3926 - lr: 2.7000e-04\n",
      "Epoch 38/60\n",
      "10/10 [==============================] - 1s 70ms/step - loss: 3.1515 - accuracy: 0.3510 - val_loss: 2.9216 - val_accuracy: 0.3802 - lr: 2.7000e-04\n",
      "Epoch 39/60\n",
      "10/10 [==============================] - 1s 71ms/step - loss: 3.0911 - accuracy: 0.3597 - val_loss: 2.9536 - val_accuracy: 0.3791 - lr: 2.7000e-04\n",
      "Epoch 40/60\n",
      "10/10 [==============================] - 1s 69ms/step - loss: 3.1705 - accuracy: 0.3450 - val_loss: 2.9909 - val_accuracy: 0.3667 - lr: 2.7000e-04\n",
      "Epoch 41/60\n",
      "10/10 [==============================] - 1s 70ms/step - loss: 3.1483 - accuracy: 0.3566 - val_loss: 2.9938 - val_accuracy: 0.3843 - lr: 2.7000e-04\n",
      "Epoch 42/60\n",
      "10/10 [==============================] - 1s 70ms/step - loss: 3.1836 - accuracy: 0.3355 - val_loss: 3.0596 - val_accuracy: 0.3533 - lr: 2.7000e-04\n",
      "Epoch 43/60\n",
      "10/10 [==============================] - 1s 71ms/step - loss: 3.1046 - accuracy: 0.3510 - val_loss: 2.9405 - val_accuracy: 0.3988 - lr: 2.7000e-04\n",
      "Epoch 44/60\n",
      " 9/10 [==========================>...] - ETA: 0s - loss: 3.0337 - accuracy: 0.3682\n",
      "Epoch 00044: ReduceLROnPlateau reducing learning rate to 8.099999686237424e-05.\n",
      "10/10 [==============================] - 1s 70ms/step - loss: 3.0494 - accuracy: 0.3643 - val_loss: 3.1196 - val_accuracy: 0.3357 - lr: 2.7000e-04\n",
      "Epoch 45/60\n",
      "10/10 [==============================] - 1s 71ms/step - loss: 3.0956 - accuracy: 0.3583 - val_loss: 2.9915 - val_accuracy: 0.3729 - lr: 8.1000e-05\n",
      "Epoch 46/60\n",
      "10/10 [==============================] - 1s 69ms/step - loss: 3.0821 - accuracy: 0.3560 - val_loss: 2.9134 - val_accuracy: 0.3915 - lr: 8.1000e-05\n",
      "Epoch 47/60\n",
      "10/10 [==============================] - 1s 69ms/step - loss: 3.1183 - accuracy: 0.3632 - val_loss: 2.9764 - val_accuracy: 0.3688 - lr: 8.1000e-05\n",
      "Epoch 48/60\n",
      "10/10 [==============================] - 1s 71ms/step - loss: 3.1115 - accuracy: 0.3541 - val_loss: 3.2125 - val_accuracy: 0.3388 - lr: 8.1000e-05\n",
      "Epoch 49/60\n",
      "10/10 [==============================] - 1s 70ms/step - loss: 3.1485 - accuracy: 0.3481 - val_loss: 3.0361 - val_accuracy: 0.3678 - lr: 8.1000e-05\n"
     ]
    },
    {
     "name": "stdout",
     "output_type": "stream",
     "text": [
      "Epoch 50/60\n",
      "10/10 [==============================] - 1s 70ms/step - loss: 3.0155 - accuracy: 0.3731 - val_loss: 2.9790 - val_accuracy: 0.3802 - lr: 8.1000e-05\n",
      "Epoch 51/60\n",
      " 9/10 [==========================>...] - ETA: 0s - loss: 3.1483 - accuracy: 0.3455\n",
      "Epoch 00051: ReduceLROnPlateau reducing learning rate to 2.429999949526973e-05.\n",
      "10/10 [==============================] - 1s 68ms/step - loss: 3.1312 - accuracy: 0.3488 - val_loss: 2.8803 - val_accuracy: 0.3998 - lr: 8.1000e-05\n",
      "Epoch 52/60\n",
      "10/10 [==============================] - 1s 69ms/step - loss: 3.0959 - accuracy: 0.3541 - val_loss: 3.1210 - val_accuracy: 0.3399 - lr: 2.4300e-05\n",
      "Epoch 53/60\n",
      "10/10 [==============================] - 1s 69ms/step - loss: 3.0503 - accuracy: 0.3667 - val_loss: 2.9629 - val_accuracy: 0.3698 - lr: 2.4300e-05\n",
      "Epoch 54/60\n",
      "10/10 [==============================] - 1s 71ms/step - loss: 3.0700 - accuracy: 0.3671 - val_loss: 2.9606 - val_accuracy: 0.3926 - lr: 2.4300e-05\n",
      "Epoch 55/60\n",
      "10/10 [==============================] - 1s 69ms/step - loss: 3.2370 - accuracy: 0.3264 - val_loss: 2.9694 - val_accuracy: 0.3884 - lr: 2.4300e-05\n",
      "Epoch 56/60\n",
      "10/10 [==============================] - 1s 70ms/step - loss: 3.1053 - accuracy: 0.3523 - val_loss: 3.0428 - val_accuracy: 0.3688 - lr: 2.4300e-05\n",
      "Epoch 57/60\n",
      "10/10 [==============================] - 1s 71ms/step - loss: 3.1420 - accuracy: 0.3432 - val_loss: 2.8801 - val_accuracy: 0.4039 - lr: 2.4300e-05\n",
      "Epoch 58/60\n",
      "10/10 [==============================] - 1s 69ms/step - loss: 3.1301 - accuracy: 0.3479 - val_loss: 2.7622 - val_accuracy: 0.4091 - lr: 2.4300e-05\n",
      "Epoch 59/60\n",
      "10/10 [==============================] - 1s 71ms/step - loss: 3.1602 - accuracy: 0.3479 - val_loss: 2.9443 - val_accuracy: 0.3957 - lr: 2.4300e-05\n",
      "Epoch 60/60\n",
      "10/10 [==============================] - 1s 71ms/step - loss: 3.1030 - accuracy: 0.3599 - val_loss: 3.0865 - val_accuracy: 0.3471 - lr: 2.4300e-05\n"
     ]
    }
   ],
   "source": [
    "model1.train(training_gen, valid_gen, 60, init_epoch=0)"
   ]
  },
  {
   "cell_type": "code",
   "execution_count": null,
   "id": "catholic-physiology",
   "metadata": {},
   "outputs": [],
   "source": [
    "! tensorboard --logdir \"logs/\" + name"
   ]
  },
  {
   "cell_type": "code",
   "execution_count": null,
   "id": "correct-parliament",
   "metadata": {},
   "outputs": [],
   "source": [
    "X, y = training_gen.__getitem__(1)"
   ]
  },
  {
   "cell_type": "code",
   "execution_count": 7,
   "id": "diagnostic-pressure",
   "metadata": {},
   "outputs": [
    {
     "name": "stdout",
     "output_type": "stream",
     "text": [
      "10/10 [==============================] - 1s 141ms/step - loss: 3.0056 - accuracy: 0.3676\n"
     ]
    },
    {
     "data": {
      "text/plain": [
       "[3.0055863857269287, 0.3675619959831238]"
      ]
     },
     "execution_count": 7,
     "metadata": {},
     "output_type": "execute_result"
    }
   ],
   "source": [
    "model1.model.evaluate(training_gen)"
   ]
  },
  {
   "cell_type": "code",
   "execution_count": 8,
   "id": "individual-california",
   "metadata": {},
   "outputs": [
    {
     "name": "stdout",
     "output_type": "stream",
     "text": [
      "4/4 [==============================] - 0s 68ms/step - loss: 2.9240 - accuracy: 0.4194\n"
     ]
    },
    {
     "data": {
      "text/plain": [
       "[2.9239509105682373, 0.4194214940071106]"
      ]
     },
     "execution_count": 8,
     "metadata": {},
     "output_type": "execute_result"
    }
   ],
   "source": [
    "model1.model.evaluate(valid_gen)"
   ]
  },
  {
   "cell_type": "code",
   "execution_count": null,
   "id": "subject-lover",
   "metadata": {},
   "outputs": [],
   "source": [
    "pred = model1.model.predict(X)\n",
    "print(pred)"
   ]
  },
  {
   "cell_type": "code",
   "execution_count": null,
   "id": "several-hybrid",
   "metadata": {},
   "outputs": [],
   "source": [
    "print(y)"
   ]
  },
  {
   "cell_type": "code",
   "execution_count": null,
   "id": "norman-single",
   "metadata": {},
   "outputs": [],
   "source": [
    "import numpy as np\n",
    "y_pred = np.argmax(pred, axis=1)\n",
    "print(y_pred[y_pred!=y])"
   ]
  },
  {
   "cell_type": "code",
   "execution_count": null,
   "id": "running-mandate",
   "metadata": {},
   "outputs": [],
   "source": [
    "X2, y2 = valid_gen.__getitem__(1)\n",
    "\n",
    "pred2 = model1.model(X2)\n",
    "\n",
    "print(np.argmax(pred2, axis=1)==y2)"
   ]
  },
  {
   "cell_type": "code",
   "execution_count": null,
   "id": "mighty-dressing",
   "metadata": {},
   "outputs": [],
   "source": [
    "import numpy as np\n",
    "a = X[0][0,:,:,2]\n",
    "ind = np.unravel_index(np.argmin(a), a.shape)\n",
    "print(ind)\n"
   ]
  },
  {
   "cell_type": "code",
   "execution_count": null,
   "id": "duplicate-credits",
   "metadata": {},
   "outputs": [],
   "source": [
    "print(84*84)"
   ]
  },
  {
   "cell_type": "code",
   "execution_count": null,
   "id": "described-satin",
   "metadata": {},
   "outputs": [],
   "source": [
    "from drawing_env import Drawer\n",
    "import numpy as np\n",
    "\n",
    "drawer = Drawer()\n",
    "def draw_action(canvas, distance_map, action):\n",
    "    drawer.set_canvas(canvas)\n",
    "    pen_pos = np.unravel_index(np.argmin(distance_map), distance_map.shape)\n",
    "    drawer.set_pen_position((pen_pos[1], pen_pos[0]))\n",
    "    drawer.do_action(action)\n",
    "    return np.copy(drawer.get_canvas())\n",
    "\n"
   ]
  },
  {
   "cell_type": "code",
   "execution_count": null,
   "id": "adverse-conservative",
   "metadata": {},
   "outputs": [],
   "source": [
    "import matplotlib.pyplot as plt\n",
    "\n",
    "X,y = training_gen.__getitem__(1)\n",
    "pred = model_base.model.predict(X)\n",
    "y_pred = np.argmax(pred, axis=1)\n",
    "\n",
    "# Plot\n",
    "fig=plt.figure(figsize=(12, 64))\n",
    "cols = 6\n",
    "rows = 24\n",
    "\n",
    "for i in range(12):\n",
    "    canvas = X[0][i,:,:,1]\n",
    "    distance_map = X[0][i,:,:,2]\n",
    "    action = y[i]\n",
    "    action_pred = y_pred[i]\n",
    "    canv_truth = draw_action(canvas, distance_map, action)\n",
    "    canv_pred = draw_action(canvas, distance_map, action_pred)\n",
    "    fig.add_subplot(rows, cols, 3*i+1)\n",
    "    plt.imshow(canv_truth)\n",
    "    fig.add_subplot(rows, cols, 3*i+2)\n",
    "    plt.imshow(canv_pred)\n",
    "    \n",
    "    fig.add_subplot(rows, cols, 3*i+3)\n",
    "    plt.imshow(distance_map)\n",
    "    \n",
    "plt.show()\n",
    "    "
   ]
  },
  {
   "cell_type": "code",
   "execution_count": null,
   "id": "dramatic-consistency",
   "metadata": {
    "scrolled": true
   },
   "outputs": [],
   "source": [
    "import matplotlib.pyplot as plt\n",
    "print(\"--- After training\")\n",
    "X,y = training_gen.__getitem__(0)\n",
    "pred = model1.model.predict(X)\n",
    "y_pred = np.argmax(pred, axis=1)\n",
    "\n",
    "# Plot\n",
    "fig=plt.figure(figsize=(16, 64))\n",
    "cols = 8\n",
    "rows = 24\n",
    "\n",
    "for i in range(12):\n",
    "    ref = X[0][i,:,:,0]\n",
    "    canvas = X[0][i,:,:,0]\n",
    "    distance_map = X[0][i,:,:,2]\n",
    "    action = y[i]\n",
    "    action_pred = y_pred[i]\n",
    "    canv_truth = draw_action(canvas, distance_map, action)\n",
    "    canv_pred = draw_action(canvas, distance_map, action_pred)\n",
    "    fig.add_subplot(rows, cols, 4*i+1)\n",
    "    plt.imshow(canv_truth)\n",
    "    fig.add_subplot(rows, cols, 4*i+2)\n",
    "    plt.imshow(canv_pred, cmap='gray')\n",
    "    \n",
    "    fig.add_subplot(rows, cols, 4*i+3)\n",
    "    plt.imshow(distance_map, cmap='gray')\n",
    "    \n",
    "    fig.add_subplot(rows, cols, 4*i+4)\n",
    "    plt.imshow(ref, cmap='gray')\n",
    "    \n",
    "plt.show()"
   ]
  },
  {
   "cell_type": "code",
   "execution_count": 9,
   "id": "secret-underground",
   "metadata": {},
   "outputs": [],
   "source": [
    "X,y = training_gen.__getitem__(0)\n",
    "Ys = y\n",
    "pred = model1.model.predict(X)\n",
    "y_pred = np.argmax(pred, axis=1)\n",
    "y_preds = y_pred\n",
    "for i in range(1, len(training_gen)):\n",
    "    X,y = training_gen.__getitem__(i)\n",
    "    pred = model1.model.predict(X)\n",
    "    y_pred = np.argmax(pred, axis=1)\n",
    "    Ys = np.concatenate((Ys,y))\n",
    "    y_preds = np.concatenate((y_preds,y_pred))\n"
   ]
  },
  {
   "cell_type": "code",
   "execution_count": 10,
   "id": "strong-brunswick",
   "metadata": {},
   "outputs": [
    {
     "data": {
      "image/png": "[encoded data removed]",
      "text/plain": [
       "<Figure size 1080x1080 with 2 Axes>"
      ]
     },
     "metadata": {
      "needs_background": "light"
     },
     "output_type": "display_data"
    }
   ],
   "source": [
    "from sklearn.metrics import confusion_matrix\n",
    "import seaborn as sns\n",
    "\n",
    "def plot_cf(confmat):\n",
    "    import numpy as np\n",
    "    import matplotlib.pyplot as plt\n",
    "\n",
    "#     confmat=np.random.rand(90,90)\n",
    "    ticks=np.linspace(0, 241,num=242)\n",
    "    plt.figure(figsize=(15, 15))\n",
    "    plt.imshow(confmat, interpolation='none')\n",
    "    plt.colorbar()\n",
    "    plt.xticks(ticks,fontsize=6)\n",
    "    plt.yticks(ticks,fontsize=6)\n",
    "    plt.grid(True)\n",
    "    plt.show()\n",
    "\n",
    "cf_matrix = confusion_matrix(Ys, y_preds)\n",
    "plot_cf(cf_matrix)\n"
   ]
  },
  {
   "cell_type": "code",
   "execution_count": 11,
   "id": "aggressive-yesterday",
   "metadata": {},
   "outputs": [],
   "source": [
    "from drawing_env import Drawer\n",
    "import numpy as np\n",
    "import matplotlib.pyplot as plt\n",
    "import cv2\n",
    "\n",
    "def generate_test(drawer, strokes=32):\n",
    "    actions = np.random.randint(0, 242, strokes)\n",
    "    for action in actions:\n",
    "        drawer.do_action(action)\n",
    "        \n",
    "    return drawer.get_canvas()\n",
    "\n",
    "def get_image(path):\n",
    "    img = cv2.imread(path)\n",
    "    img = cv2.resize(img, (84,84))\n",
    "    img = cv2.cvtColor(img, cv2.COLOR_RGB2GRAY)\n",
    "    img = 1-(img / 255)\n",
    "    print(img)\n",
    "    img = np.array(img, dtype=np.float)\n",
    "    print(img.shape, type(img), img.dtype)\n",
    "    return img"
   ]
  },
  {
   "cell_type": "code",
   "execution_count": 25,
   "id": "surrounded-summer",
   "metadata": {},
   "outputs": [
    {
     "name": "stdout",
     "output_type": "stream",
     "text": [
      "[[0.         0.         0.         ... 0.94901961 0.76862745 0.13333333]\n",
      " [0.         0.         0.         ... 0.03921569 0.00784314 0.00392157]\n",
      " [0.         0.         0.         ... 0.00392157 0.00392157 0.00392157]\n",
      " ...\n",
      " [0.         0.         0.         ... 0.         0.         0.        ]\n",
      " [0.         0.         0.         ... 0.         0.         0.        ]\n",
      " [0.         0.         0.         ... 0.         0.         0.        ]]\n",
      "(84, 84) <class 'numpy.ndarray'> float64\n",
      "[[0. 0. 0. ... 0. 0. 0.]\n",
      " [0. 0. 0. ... 0. 0. 0.]\n",
      " [0. 0. 0. ... 0. 0. 0.]\n",
      " ...\n",
      " [0. 0. 0. ... 0. 0. 0.]\n",
      " [0. 0. 0. ... 0. 0. 0.]\n",
      " [0. 0. 0. ... 0. 0. 0.]]\n"
     ]
    },
    {
     "data": {
      "image/png": "[encoded data removed]",
      "text/plain": [
       "<Figure size 1152x576 with 2 Axes>"
      ]
     },
     "metadata": {
      "needs_background": "light"
     },
     "output_type": "display_data"
    }
   ],
   "source": [
    "from copy import deepcopy\n",
    "\n",
    "drawer_test = Drawer()\n",
    "drawer_test.reset()\n",
    "drawer_test.set_pen_position((40,40))\n",
    "strokes = 200\n",
    "\n",
    "drawer_ref = deepcopy(drawer_test)\n",
    "# Test using random stroke\n",
    "# ref = generate_test(drawer_ref, strokes)\n",
    "\n",
    "# Test using image\n",
    "ref = get_image('../Sketch/PhotoSketch/Exp/PhotoSketch/Results/bedroom.png')\n",
    "drawer_ref.set_canvas(ref)\n",
    "\n",
    "\n",
    "fig=plt.figure(figsize=(16, 8))\n",
    "cols = 8\n",
    "rows = 1\n",
    "fig.add_subplot(rows, cols, 1)\n",
    "plt.imshow(ref, cmap='gray')\n",
    "fig.add_subplot(rows, cols, 2)\n",
    "print(drawer_test.get_canvas())\n",
    "plt.imshow(drawer_test.get_canvas(), cmap='gray')\n",
    "\n",
    "plt.show()\n",
    "canvas = []\n",
    "\n",
    "for i in range(strokes):\n",
    "    # Prepare X\n",
    "    dis = drawer_test.get_distance_map()\n",
    "    col = drawer_test.get_color_map()\n",
    "    cp = drawer_test.get_patch()\n",
    "    rp = drawer_ref.get_patch(drawer_test.get_pen_position())\n",
    "    x = np.stack( (ref, drawer_test.get_canvas(), dis, col), axis=2)\n",
    "    p = np.stack( (cp, rp), axis=2)\n",
    "    \n",
    "    x = np.expand_dims(x, axis=0)\n",
    "    p = np.expand_dims(p, axis=0)\n",
    "    \n",
    "    pred = model1.model.predict([x,p])\n",
    "    action = np.argmax(pred)\n",
    "    drawer_test.do_action(action)\n",
    "    canvas.append(drawer_test.get_canvas())\n"
   ]
  },
  {
   "cell_type": "code",
   "execution_count": null,
   "id": "cosmetic-aruba",
   "metadata": {},
   "outputs": [],
   "source": [
    "cols = 4\n",
    "rows = strokes//cols + 1\n",
    "fig=plt.figure(figsize=(4*cols, 4*rows))\n",
    "\n",
    "for i in range(strokes):\n",
    "    fig.add_subplot(rows, cols, i+1)\n",
    "    plt.imshow(canvas[i], cmap='gray')\n",
    "fig.add_subplot(rows, cols, strokes+1)\n",
    "plt.imshow(ref, cmap='gray')\n",
    "plt.show()"
   ]
  },
  {
   "cell_type": "code",
   "execution_count": 26,
   "id": "phantom-taxation",
   "metadata": {},
   "outputs": [],
   "source": [
    "import cv2\n",
    "import numpy as np\n",
    "fourcc = cv2.VideoWriter_fourcc(*'XVID')\n",
    "out = cv2.VideoWriter('test_out/bedroom-' + name + '.avi',fourcc, 20.0, (84*2,84*1))\n",
    "for i in range(strokes):\n",
    "    images = (np.hstack((ref, canvas[i]))*255).astype(\"uint8\")\n",
    "    images = cv2.cvtColor(images, cv2.COLOR_GRAY2BGR)\n",
    "\n",
    "#     cv2.imshow(\"Video\", images)\n",
    "#     cv2.imshow(\"patch\", new_observation[4])\n",
    "    out.write(images)\n",
    "\n",
    "out.release()"
   ]
  },
  {
   "cell_type": "code",
   "execution_count": 14,
   "id": "protected-concentrate",
   "metadata": {},
   "outputs": [],
   "source": [
    "model1.model.save(model_path)"
   ]
  },
  {
   "cell_type": "code",
   "execution_count": null,
   "id": "demonstrated-sterling",
   "metadata": {},
   "outputs": [],
   "source": [
    "model1.model = tf.keras.models.load_model(model_path)"
   ]
  },
  {
   "cell_type": "code",
   "execution_count": null,
   "id": "motivated-barcelona",
   "metadata": {},
   "outputs": [],
   "source": [
    "model.summary()"
   ]
  },
  {
   "cell_type": "code",
   "execution_count": null,
   "id": "wrapped-removal",
   "metadata": {},
   "outputs": [],
   "source": []
  }
 ],
 "metadata": {
  "kernelspec": {
   "display_name": "Python 3",
   "language": "python",
   "name": "python3"
  },
  "language_info": {
   "codemirror_mode": {
    "name": "ipython",
    "version": 3
   },
   "file_extension": ".py",
   "mimetype": "text/x-python",
   "name": "python",
   "nbconvert_exporter": "python",
   "pygments_lexer": "ipython3",
   "version": "3.8.5"
  }
 },
 "nbformat": 4,
 "nbformat_minor": 5
}
